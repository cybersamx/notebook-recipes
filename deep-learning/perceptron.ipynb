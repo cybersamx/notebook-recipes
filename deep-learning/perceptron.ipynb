{
 "cells": [
  {
   "metadata": {},
   "cell_type": "markdown",
   "source": [
    "# Perceptron\n",
    "\n",
    "Artificial neural network (ANN) are a type of computer system that are inspired by the biological brains. You can use ANN to learn to do classifications like image recognition. An ANN is made up of 1 to many neurons (or perceptrons). There's nothing too \"magical\" about a perceptron. At the end of the day, a perceptron is just a function that holds a number, aka activation. The interpretation of the number depends on the context eg. the greyscale of a pixel, the probability that an character is recognized the number 3, etc.\n",
    "\n",
    "This notebook implements a simple perceptron."
   ],
   "id": "32efbd524370e2d5"
  },
  {
   "metadata": {
    "ExecuteTime": {
     "end_time": "2024-10-09T06:14:04.708083Z",
     "start_time": "2024-10-09T06:14:03.704813Z"
    }
   },
   "cell_type": "code",
   "source": [
    "# Install the packages\n",
    "\n",
    "!pip install matplotlib numpy scikit-learn > /dev/null 2>&1\n",
    "\n",
    "import numpy as np\n",
    "from sklearn.datasets import make_classification"
   ],
   "id": "23dfa234f1f2bf90",
   "outputs": [],
   "execution_count": 3
  },
  {
   "metadata": {},
   "cell_type": "markdown",
   "source": [
    "## Generate Dataset for Classification\n",
    "\n",
    "Generate a 100-row, 2-feature classification data."
   ],
   "id": "d95bc4f64033148b"
  },
  {
   "metadata": {
    "ExecuteTime": {
     "end_time": "2024-10-09T06:14:04.719382Z",
     "start_time": "2024-10-09T06:14:04.714622Z"
    }
   },
   "cell_type": "code",
   "source": [
    "X, y = make_classification(n_features=2, n_redundant=0, n_informative=2,\n",
    "                           random_state=1, n_clusters_per_class=1)\n",
    "X.shape"
   ],
   "id": "b9ad0ae3dec859b0",
   "outputs": [
    {
     "data": {
      "text/plain": [
       "(100, 2)"
      ]
     },
     "execution_count": 4,
     "metadata": {},
     "output_type": "execute_result"
    }
   ],
   "execution_count": 4
  },
  {
   "metadata": {},
   "cell_type": "markdown",
   "source": [
    "## Perceptron Explained\n",
    "\n",
    "Here's the definition of a perceptron.\n",
    "\n",
    "![Perceptron](images/perceptron.jpg)\n",
    "\n",
    "Image courtesy of [dev.to](https://dev.to/codeperfectplus/single-layer-neural-networks-in-machine-learning-perceptrons-18n8)."
   ],
   "id": "2c4ef5492e5d0542"
  },
  {
   "metadata": {},
   "cell_type": "markdown",
   "source": [
    "## Perception Function\n",
    "\n",
    "Let us create a perceptron function, which takes in a Dataframe object and an activation function, and returns a scalar output.\n"
   ],
   "id": "9b8c965eb6c5afaa"
  },
  {
   "metadata": {
    "ExecuteTime": {
     "end_time": "2024-10-09T06:14:04.735180Z",
     "start_time": "2024-10-09T06:14:04.732672Z"
    }
   },
   "cell_type": "code",
   "source": [
    "def perceptron(X, activation):\n",
    "    # Seed for reproducibility.\n",
    "    np.random.seed(1)\n",
    "\n",
    "    # Set up the variables.\n",
    "    n = X.shape[0] + X.shape[1]\n",
    "    ## Generate the same number of random weight in the half-open interval [0.0, 1.0) ie. doesn't include 1.\n",
    "    w = 2 * np.random.random(X.shape) - 1\n",
    "    ## A random number for bias\n",
    "    b = np.random.random(1)[0]\n",
    "\n",
    "    # Sum all inputs, weights, and the bias to get output y\n",
    "    z = b\n",
    "    ## Iterate over the columns.\n",
    "    for i in range(0, X.shape[0]-1):\n",
    "        ## Iterate over the rows.\n",
    "        for j in range(0, X.shape[1]-1):\n",
    "            z += X[i, j]/n * w[i, j]\n",
    "\n",
    "    return activation(z)"
   ],
   "id": "7aa53b2f7026cec6",
   "outputs": [],
   "execution_count": 5
  },
  {
   "metadata": {},
   "cell_type": "markdown",
   "source": [
    "## Activation Function\n",
    "\n",
    "An activation function, an integral part of a perceptron, is applied to sum of the inputs by modeling some non-linearity to the system allowing the network to solve some complex problems.\n",
    "\n",
    "Here are the activation functions that we can use."
   ],
   "id": "bb0450ad5274c356"
  },
  {
   "metadata": {
    "ExecuteTime": {
     "end_time": "2024-10-09T06:14:04.745852Z",
     "start_time": "2024-10-09T06:14:04.743757Z"
    }
   },
   "cell_type": "code",
   "source": [
    "# Define the activation functions.\n",
    "def relu(z):\n",
    "    return max(0, z)\n",
    "\n",
    "def sigmoid(z):\n",
    "    return 1 / (1 + np.exp(-z))\n",
    "\n",
    "def tanh(z):\n",
    "    return (np.exp(z) - np.exp(-z)) / (np.exp(z) + np.exp(-z))"
   ],
   "id": "9c66c1ec83a68347",
   "outputs": [],
   "execution_count": 6
  },
  {
   "metadata": {},
   "cell_type": "markdown",
   "source": [
    "## Running the Perceptron\n",
    "\n",
    "The outputs of the perceptron:"
   ],
   "id": "764de66dabd22891"
  },
  {
   "metadata": {
    "ExecuteTime": {
     "end_time": "2024-10-09T06:14:04.752555Z",
     "start_time": "2024-10-09T06:14:04.750564Z"
    }
   },
   "cell_type": "code",
   "source": [
    "print('Output with ReLU:', perceptron(X, relu))\n",
    "print('Output with Sigmoid:', perceptron(X, sigmoid))\n",
    "print('Output with Tanh:', perceptron(X, tanh))"
   ],
   "id": "cd3ccbf9ef340034",
   "outputs": [
    {
     "name": "stdout",
     "output_type": "stream",
     "text": [
      "Output with ReLU: 0.8912011908681261\n",
      "Output with Sigmoid: 0.7091379939820672\n",
      "Output with Tanh: 0.7119865159305259\n"
     ]
    }
   ],
   "execution_count": 7
  },
  {
   "metadata": {},
   "cell_type": "markdown",
   "source": [
    "## References\n",
    "\n",
    "* [ML Cheatsheet: Activation Functions](https://ml-cheatsheet.readthedocs.io/en/latest/activation_functions.html)"
   ],
   "id": "4d9c6ebde22dc5b5"
  }
 ],
 "metadata": {
  "kernelspec": {
   "display_name": "Python 3",
   "language": "python",
   "name": "python3"
  },
  "language_info": {
   "codemirror_mode": {
    "name": "ipython",
    "version": 2
   },
   "file_extension": ".py",
   "mimetype": "text/x-python",
   "name": "python",
   "nbconvert_exporter": "python",
   "pygments_lexer": "ipython2",
   "version": "2.7.6"
  }
 },
 "nbformat": 4,
 "nbformat_minor": 5
}
