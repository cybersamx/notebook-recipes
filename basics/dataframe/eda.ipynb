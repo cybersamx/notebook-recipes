{
 "cells": [
  {
   "metadata": {},
   "cell_type": "markdown",
   "source": [
    "# Exploratory Data Analysis\n",
    "\n",
    "One common activity in any data science and ML/AI workflow is exploratory data analysis (EDA). We want to perform an EDA to inspect the dataset for data integrity and quality. We use the `pandas` library for data manipulation and EDA. The library enables us to parse raw data into data structures like dataframe or table in our Python code for data inspection and manipulation."
   ],
   "id": "191a9f9536fec352"
  },
  {
   "metadata": {
    "collapsed": true,
    "ExecuteTime": {
     "end_time": "2024-10-06T06:23:22.483612Z",
     "start_time": "2024-10-06T06:23:21.783042Z"
    }
   },
   "cell_type": "code",
   "source": [
    "# Install the packages\n",
    "\n",
    "!pip install pandas > /dev/null 2>&1"
   ],
   "id": "initial_id",
   "outputs": [],
   "execution_count": 2
  },
  {
   "metadata": {
    "ExecuteTime": {
     "end_time": "2024-10-06T06:23:22.612977Z",
     "start_time": "2024-10-06T06:23:22.487823Z"
    }
   },
   "cell_type": "code",
   "source": "import pandas as pd",
   "id": "427e57b3dbb43cb0",
   "outputs": [],
   "execution_count": 3
  },
  {
   "metadata": {},
   "cell_type": "markdown",
   "source": "Let's start by importing data from a csv file.",
   "id": "39d9c3255a1c5b8c"
  },
  {
   "metadata": {
    "ExecuteTime": {
     "end_time": "2024-10-06T06:23:22.629013Z",
     "start_time": "2024-10-06T06:23:22.619454Z"
    }
   },
   "cell_type": "code",
   "source": "df = pd.read_csv('../../data/fortune500.csv')",
   "id": "a918120ea5f32e89",
   "outputs": [],
   "execution_count": 4
  },
  {
   "metadata": {},
   "cell_type": "markdown",
   "source": [
    "## Dataframe Shape/Size Inspection\n",
    "\n",
    "Here are some ways to inspect the shape or size of the dataframe. "
   ],
   "id": "bd817fbad0e3d0dd"
  },
  {
   "metadata": {
    "ExecuteTime": {
     "end_time": "2024-10-06T06:26:36.280144Z",
     "start_time": "2024-10-06T06:26:36.275572Z"
    }
   },
   "cell_type": "code",
   "source": [
    "print(f'#rows: {len(df)}')\n",
    "print(f'(#rows, #cols): {df.shape}')\n",
    "\n",
    "print()\n",
    "print('First 5 rows:')\n",
    "print(df.head())"
   ],
   "id": "392600d2017a589b",
   "outputs": [
    {
     "name": "stdout",
     "output_type": "stream",
     "text": [
      "First 5 rows:\n",
      "   Year  Rank           Company  Revenue (in millions) Profit (in millions)\n",
      "0  1955     1    General Motors                 9823.5                  806\n",
      "1  1955     2       Exxon Mobil                 5661.4                584.8\n",
      "2  1955     3        U.S. Steel                 3250.4                195.4\n",
      "3  1955     4  General Electric                 2959.1                212.6\n",
      "4  1955     5            Esmark                 2510.8                 19.1\n",
      "\n",
      "#rows: 25500\n",
      "(#rows, #cols): (25500, 5)\n"
     ]
    }
   ],
   "execution_count": 7
  },
  {
   "metadata": {},
   "cell_type": "markdown",
   "source": [
    "## Dataframe Type Inspection\n",
    "\n",
    "Here are some ways to inspect the types of the columns. \n"
   ],
   "id": "7e9d3942e488b06f"
  },
  {
   "metadata": {
    "ExecuteTime": {
     "end_time": "2024-10-06T06:30:40.246275Z",
     "start_time": "2024-10-06T06:30:40.243425Z"
    }
   },
   "cell_type": "code",
   "source": [
    "print('The data types of the columns')\n",
    "print(df.dtypes)"
   ],
   "id": "17bdb9daf20ccca5",
   "outputs": [
    {
     "name": "stdout",
     "output_type": "stream",
     "text": [
      "The data types of the columns\n",
      "Year                       int64\n",
      "Rank                       int64\n",
      "Company                   object\n",
      "Revenue (in millions)    float64\n",
      "Profit (in millions)      object\n",
      "dtype: object\n"
     ]
    }
   ],
   "execution_count": 8
  }
 ],
 "metadata": {
  "kernelspec": {
   "display_name": "Python 3",
   "language": "python",
   "name": "python3"
  },
  "language_info": {
   "codemirror_mode": {
    "name": "ipython",
    "version": 2
   },
   "file_extension": ".py",
   "mimetype": "text/x-python",
   "name": "python",
   "nbconvert_exporter": "python",
   "pygments_lexer": "ipython2",
   "version": "2.7.6"
  }
 },
 "nbformat": 4,
 "nbformat_minor": 5
}
