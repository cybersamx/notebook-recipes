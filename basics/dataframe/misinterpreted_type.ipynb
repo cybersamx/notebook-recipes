{
 "cells": [
  {
   "metadata": {},
   "cell_type": "markdown",
   "source": [
    "# Misinterpreted Data Type\n",
    "\n",
    "There are times when pandas misinterprets the data and may assign the wrong data type to the column. Usually this means that a numeric column has non-numeric values.\n",
    "\n",
    "As part of the EDA process, we need to clean up the dataset.\n",
    "\n",
    "There are 2 parts to this notebook:\n",
    "\n",
    "* Identify and analyze the issue\n",
    "* Fix the issue"
   ],
   "id": "6c26b50afb874581"
  },
  {
   "metadata": {
    "ExecuteTime": {
     "end_time": "2024-10-06T19:12:44.374571Z",
     "start_time": "2024-10-06T19:12:43.608799Z"
    }
   },
   "cell_type": "code",
   "source": [
    "# Install the packages\n",
    "\n",
    "!pip install matplotlib pandas > /dev/null 2>&1"
   ],
   "id": "7e1fdbffaa5a8366",
   "outputs": [],
   "execution_count": 18
  },
  {
   "metadata": {
    "ExecuteTime": {
     "end_time": "2024-10-06T19:12:44.398337Z",
     "start_time": "2024-10-06T19:12:44.383346Z"
    }
   },
   "cell_type": "code",
   "source": [
    "%matplotlib inline\n",
    "import pandas as pd\n",
    "import matplotlib.pyplot as plt\n",
    "\n",
    "\n",
    "# Import the data\n",
    "df = pd.read_csv('../../data/fortune500.csv')\n",
    "\n",
    "print(df.dtypes)"
   ],
   "id": "6a326e208930d3f1",
   "outputs": [
    {
     "name": "stdout",
     "output_type": "stream",
     "text": [
      "Year                       int64\n",
      "Rank                       int64\n",
      "Company                   object\n",
      "Revenue (in millions)    float64\n",
      "Profit (in millions)      object\n",
      "dtype: object\n"
     ]
    }
   ],
   "execution_count": 19
  },
  {
   "metadata": {
    "ExecuteTime": {
     "end_time": "2024-10-06T19:12:44.411003Z",
     "start_time": "2024-10-06T19:12:44.408936Z"
    }
   },
   "cell_type": "code",
   "source": [
    "# Let's clean a bit to make the dataset easier for EDA.\n",
    "\n",
    "# The column names are long, shorten them.\n",
    "df.columns = ['year', 'rank', 'company', 'revenue', 'profit']\n",
    "print(df.dtypes)"
   ],
   "id": "60a38dde6f1fd3d6",
   "outputs": [
    {
     "name": "stdout",
     "output_type": "stream",
     "text": [
      "year         int64\n",
      "rank         int64\n",
      "company     object\n",
      "revenue    float64\n",
      "profit      object\n",
      "dtype: object\n"
     ]
    }
   ],
   "execution_count": 20
  },
  {
   "metadata": {},
   "cell_type": "markdown",
   "source": [
    "## Identify and analyze the issue\n",
    "\n",
    "Let us identify how many invalid data values in the imported dataset."
   ],
   "id": "1cea9245940923ba"
  },
  {
   "metadata": {
    "ExecuteTime": {
     "end_time": "2024-10-06T19:12:44.478195Z",
     "start_time": "2024-10-06T19:12:44.419462Z"
    }
   },
   "cell_type": "code",
   "source": [
    "# ^ in regex matches any characters not in [ ., -, 1, 2, 3, 4, 5, 6, 7, 8, 9, 0 ]\n",
    "\n",
    "invalid_profits = df['profit'].str.contains('[^0-9.-]', regex=True)\n",
    "sample = df.loc[invalid_profits].head()\n",
    "\n",
    "count_rows = len(df)\n",
    "count_invalid_profits = len(df.loc[invalid_profits])\n",
    "percent_invalid_profits = count_invalid_profits / count_rows * 100\n",
    "print('Sample rows where profit != numeric value')\n",
    "print(sample)\n",
    "print()\n",
    "print('# Rows where profit != numeric value: %d' % count_invalid_profits)\n",
    "print('%% rows where profit != numeric value: %.3f' % percent_invalid_profits)\n",
    "\n",
    "# This is an overkill, but when not for demo purposes 🙂\n",
    "# We can also plot a chart to see how many rows per year have invalid profit values.\n",
    "bin_sizes, _, _ = plt.hist(df.year[invalid_profits], bins=range(1955, 2006))"
   ],
   "id": "774ce959f258b19c",
   "outputs": [
    {
     "name": "stdout",
     "output_type": "stream",
     "text": [
      "Sample rows where profit != numeric value\n",
      "     year  rank                company  revenue profit\n",
      "228  1955   229                 Norton    135.0   N.A.\n",
      "290  1955   291        Schlitz Brewing    100.0   N.A.\n",
      "294  1955   295  Pacific Vegetable Oil     97.9   N.A.\n",
      "296  1955   297     Liebmann Breweries     96.0   N.A.\n",
      "352  1955   353     Minneapolis-Moline     77.4   N.A.\n",
      "\n",
      "# Rows where profit != numeric value: 369\n",
      "% rows where profit != numeric value: 1.447\n"
     ]
    },
    {
     "data": {
      "text/plain": [
       "<Figure size 640x480 with 1 Axes>"
      ],
      "image/png": "[encoded data removed]"
     },
     "metadata": {},
     "output_type": "display_data"
    }
   ],
   "execution_count": 21
  },
  {
   "metadata": {},
   "cell_type": "markdown",
   "source": [
    "## Fix the Issue\n",
    "\n",
    "Column `profit` should be a numeric type, but it is interpreted by pandas as an object. From the above analysis, we see that there are a few rows that have profit == 'N.A.'.\n",
    "\n",
    "2 common ways to fix the columns with invalid values are:\n",
    "\n",
    "* Remove the row\n",
    "* Correct the data value\n",
    "\n",
    "In this context, most years have fewer than 10 companies that have invalid profit values. Given this setup, we should be okay to just remove those rows with invalid profits.\n",
    "\n",
    "Here's how we do it:"
   ],
   "id": "c2dafbcd7c3822a4"
  },
  {
   "metadata": {
    "ExecuteTime": {
     "end_time": "2024-10-06T19:12:44.584768Z",
     "start_time": "2024-10-06T19:12:44.505674Z"
    }
   },
   "cell_type": "code",
   "source": [
    "# Only rows with valid profits\n",
    "valid_profits = ~invalid_profits\n",
    "df = df.loc[valid_profits]\n",
    "print('First 5 rows:')\n",
    "print(df.head())\n",
    "print()\n",
    "print('# Rows: %d' % len(df))\n",
    "# Force profits as a numeric type since it was auto configured to be object due to invalid values during loading\n",
    "df.profit = df.profit.apply(pd.to_numeric)\n",
    "print()\n",
    "print('The data types of the columns')\n",
    "print(df.dtypes)"
   ],
   "id": "2b66e5c717a11b3b",
   "outputs": [
    {
     "name": "stdout",
     "output_type": "stream",
     "text": [
      "First 5 rows:\n",
      "   year  rank           company  revenue profit\n",
      "0  1955     1    General Motors   9823.5    806\n",
      "1  1955     2       Exxon Mobil   5661.4  584.8\n",
      "2  1955     3        U.S. Steel   3250.4  195.4\n",
      "3  1955     4  General Electric   2959.1  212.6\n",
      "4  1955     5            Esmark   2510.8   19.1\n",
      "\n",
      "# Rows: 25131\n",
      "\n",
      "The data types of the columns\n",
      "year         int64\n",
      "rank         int64\n",
      "company     object\n",
      "revenue    float64\n",
      "profit     float64\n",
      "dtype: object\n"
     ]
    }
   ],
   "execution_count": 22
  },
  {
   "metadata": {},
   "cell_type": "markdown",
   "source": "Finally, the dataframe df is now clean and ready for further processing and analysis.",
   "id": "e97d343c23de813"
  }
 ],
 "metadata": {
  "kernelspec": {
   "display_name": "Python 3",
   "language": "python",
   "name": "python3"
  },
  "language_info": {
   "codemirror_mode": {
    "name": "ipython",
    "version": 2
   },
   "file_extension": ".py",
   "mimetype": "text/x-python",
   "name": "python",
   "nbconvert_exporter": "python",
   "pygments_lexer": "ipython2",
   "version": "2.7.6"
  }
 },
 "nbformat": 4,
 "nbformat_minor": 5
}
