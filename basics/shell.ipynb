{
 "cells": [
  {
   "metadata": {},
   "cell_type": "markdown",
   "source": [
    "# Shell Command\n",
    "\n",
    "## %%bash\n",
    "\n",
    "To treat the entire cell as a bash script, start the cell with the `%%bash` directive. "
   ],
   "id": "5b3ad2c8d7801ae"
  },
  {
   "cell_type": "code",
   "id": "initial_id",
   "metadata": {
    "collapsed": true,
    "ExecuteTime": {
     "end_time": "2024-10-06T05:36:06.355356Z",
     "start_time": "2024-10-06T05:36:05.770895Z"
    }
   },
   "source": [
    "\n",
    "%%bash\n",
    "\n",
    "echo 'Installing packages for this notebook'\n",
    "pip install pandas"
   ],
   "outputs": [
    {
     "name": "stdout",
     "output_type": "stream",
     "text": [
      "Installing packages for this notebook\n",
      "Requirement already satisfied: pandas in /Users/schow/src/data/notebook-recipes/.venv/lib/python3.11/site-packages (2.2.3)\n",
      "Requirement already satisfied: numpy>=1.23.2 in /Users/schow/src/data/notebook-recipes/.venv/lib/python3.11/site-packages (from pandas) (2.1.1)\n",
      "Requirement already satisfied: python-dateutil>=2.8.2 in /Users/schow/src/data/notebook-recipes/.venv/lib/python3.11/site-packages (from pandas) (2.9.0.post0)\n",
      "Requirement already satisfied: pytz>=2020.1 in /Users/schow/src/data/notebook-recipes/.venv/lib/python3.11/site-packages (from pandas) (2024.2)\n",
      "Requirement already satisfied: tzdata>=2022.7 in /Users/schow/src/data/notebook-recipes/.venv/lib/python3.11/site-packages (from pandas) (2024.2)\n",
      "Requirement already satisfied: six>=1.5 in /Users/schow/src/data/notebook-recipes/.venv/lib/python3.11/site-packages (from python-dateutil>=2.8.2->pandas) (1.16.0)\n"
     ]
    },
    {
     "name": "stderr",
     "output_type": "stream",
     "text": [
      "\n",
      "\u001B[1m[\u001B[0m\u001B[34;49mnotice\u001B[0m\u001B[1;39;49m]\u001B[0m\u001B[39;49m A new release of pip is available: \u001B[0m\u001B[31;49m24.0\u001B[0m\u001B[39;49m -> \u001B[0m\u001B[32;49m24.2\u001B[0m\n",
      "\u001B[1m[\u001B[0m\u001B[34;49mnotice\u001B[0m\u001B[1;39;49m]\u001B[0m\u001B[39;49m To update, run: \u001B[0m\u001B[32;49mpip install --upgrade pip\u001B[0m\n"
     ]
    }
   ],
   "execution_count": 16
  },
  {
   "metadata": {},
   "cell_type": "markdown",
   "source": [
    "## Exclamation Mark\n",
    "\n",
    "To run shell commands in a notebook, prefix a shell command with the `!` to execute it in a notebook.\n",
    "\n",
    "This is super helpful for a single shell command."
   ],
   "id": "f5943e3acb175ffc"
  },
  {
   "metadata": {
    "ExecuteTime": {
     "end_time": "2024-10-06T05:36:06.515632Z",
     "start_time": "2024-10-06T05:36:06.396438Z"
    }
   },
   "cell_type": "code",
   "source": "!ls -la $(git rev-parse --show-toplevel)",
   "id": "b08ede7b856a68c6",
   "outputs": [
    {
     "name": "stdout",
     "output_type": "stream",
     "text": [
      "total 48\r\n",
      "drwxr-xr-x@ 13 schow  staff   416 Oct  5 22:20 \u001B[1m\u001B[36m.\u001B[m\u001B[m\r\n",
      "drwxr-xr-x@  6 schow  staff   192 Oct  5 09:40 \u001B[1m\u001B[36m..\u001B[m\u001B[m\r\n",
      "-rw-r--r--@  1 schow  staff   583 Sep 24 11:49 .editorconfig\r\n",
      "drwxr-xr-x@ 12 schow  staff   384 Oct  5 22:21 \u001B[1m\u001B[36m.git\u001B[m\u001B[m\r\n",
      "-rw-r--r--   1 schow  staff  3925 Sep 30 23:13 .gitignore\r\n",
      "drwxr-xr-x   9 schow  staff   288 Oct  5 22:36 \u001B[1m\u001B[36m.idea\u001B[m\u001B[m\r\n",
      "drwxr-xr-x@  8 schow  staff   256 Oct  5 09:51 \u001B[1m\u001B[36m.venv\u001B[m\u001B[m\r\n",
      "-rw-r--r--@  1 schow  staff  1068 Oct  5 09:40 LICENSE\r\n",
      "-rw-r--r--@  1 schow  staff    55 Oct  5 09:42 README.md\r\n",
      "drwxr-xr-x   3 schow  staff    96 Oct  5 22:36 \u001B[1m\u001B[36mbasics\u001B[m\u001B[m\r\n",
      "-rw-r--r--@  1 schow  staff    14 Oct  5 09:47 requirements-tools.txt\r\n",
      "-rw-r--r--@  1 schow  staff    31 Oct  5 09:56 requirements.txt\r\n",
      "drwxr-xr-x   4 schow  staff   128 Oct  5 22:17 \u001B[1m\u001B[36msentiment-analysis\u001B[m\u001B[m\r\n"
     ]
    }
   ],
   "execution_count": 17
  },
  {
   "metadata": {},
   "cell_type": "markdown",
   "source": "To silence the shell execution append a command with `> /dev/null 2>&1`.",
   "id": "e918d79b932dc7c2"
  },
  {
   "metadata": {
    "ExecuteTime": {
     "end_time": "2024-10-06T05:39:05.054021Z",
     "start_time": "2024-10-06T05:39:04.924558Z"
    }
   },
   "cell_type": "code",
   "source": "!ls -la $(git rev-parse --show-toplevel) > /dev/null 2>&1",
   "id": "ba972fabcdb24959",
   "outputs": [],
   "execution_count": 18
  }
 ],
 "metadata": {
  "kernelspec": {
   "display_name": "Python 3",
   "language": "python",
   "name": "python3"
  },
  "language_info": {
   "codemirror_mode": {
    "name": "ipython",
    "version": 2
   },
   "file_extension": ".py",
   "mimetype": "text/x-python",
   "name": "python",
   "nbconvert_exporter": "python",
   "pygments_lexer": "ipython2",
   "version": "2.7.6"
  }
 },
 "nbformat": 4,
 "nbformat_minor": 5
}
