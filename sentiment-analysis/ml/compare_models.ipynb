{
 "cells": [
  {
   "metadata": {},
   "cell_type": "markdown",
   "source": [
    "# Comparison of Classifiers Used for Sentiment Analysis\n",
    "\n",
    "We should not use classifiers for sentiment analysis with production setting. Nonetheless, text-based sentiment analysis using classifiers is still a fun exercise as it's easy to understand. In this notebook, we explore the accuracy of the different classification models."
   ],
   "id": "6cb9ad12466fb68f"
  },
  {
   "metadata": {
    "ExecuteTime": {
     "end_time": "2024-10-06T23:54:24.438282Z",
     "start_time": "2024-10-06T23:54:23.638027Z"
    }
   },
   "cell_type": "code",
   "source": [
    "# Install the packages\n",
    "\n",
    "!pip install pandas scikit-learn > /dev/null 2>&1"
   ],
   "id": "6fc2f6d013afb4d5",
   "outputs": [],
   "execution_count": 6
  },
  {
   "metadata": {
    "ExecuteTime": {
     "end_time": "2024-10-06T23:54:24.446057Z",
     "start_time": "2024-10-06T23:54:24.443041Z"
    }
   },
   "cell_type": "code",
   "source": [
    "from collections import namedtuple\n",
    "import time\n",
    "\n",
    "import pandas as pd\n",
    "import sklearn.model_selection as ms\n",
    "from sklearn.feature_extraction.text import CountVectorizer\n",
    "from sklearn.metrics import classification_report, accuracy_score\n",
    "\n",
    "from sklearn.ensemble import RandomForestClassifier\n",
    "from sklearn.linear_model import LogisticRegression\n",
    "from sklearn.naive_bayes import MultinomialNB\n",
    "from sklearn.neighbors import KNeighborsClassifier\n",
    "from sklearn.svm import SVC"
   ],
   "id": "97844999828c5f8c",
   "outputs": [],
   "execution_count": 7
  },
  {
   "metadata": {
    "ExecuteTime": {
     "end_time": "2024-10-06T23:54:25.888234Z",
     "start_time": "2024-10-06T23:54:24.456244Z"
    }
   },
   "cell_type": "code",
   "source": [
    "# Load and preprocess data.\n",
    "trained_data = pd.read_csv('../../data/twitter_data.csv')\n",
    "\n",
    "# Clean the data.\n",
    "trained_data = trained_data.dropna(subset=['text', 'category'])\n",
    "\n",
    "# Vectorize the data\n",
    "vec = CountVectorizer()\n",
    "X = vec.fit_transform(trained_data['text'])\n",
    "y = trained_data['category']\n",
    "\n",
    "# Split the data into 2 datasets for training and testing.\n",
    "X_train, X_test, y_train, y_test = ms.train_test_split(X, y, test_size=0.25, random_state=42)"
   ],
   "id": "84ebef7a34a90db7",
   "outputs": [],
   "execution_count": 8
  },
  {
   "metadata": {
    "ExecuteTime": {
     "end_time": "2024-10-07T00:39:02.389668Z",
     "start_time": "2024-10-06T23:54:25.894729Z"
    }
   },
   "cell_type": "code",
   "source": [
    "ModelRun = namedtuple('ModelRun', ['name', 'model'])\n",
    "\n",
    "classifiers = [\n",
    "    ModelRun('K-Nearest Neighbors', KNeighborsClassifier(3)),\n",
    "    ModelRun('Logistic Regression', LogisticRegression(max_iter=3000, class_weight='balanced', solver='lbfgs')),\n",
    "    ModelRun('Multinomial Naive Bayes', MultinomialNB()),\n",
    "    ModelRun('Random Forest', RandomForestClassifier(max_depth=8, random_state=42)),\n",
    "    ModelRun('C-Support Vector', SVC(gamma='auto')),  # Long time to run. Comment it out if you don't want to wait 43 mins on M series cpu.\n",
    "]\n",
    "\n",
    "\n",
    "sum_time = 0.0\n",
    "for clf in classifiers:\n",
    "    print(f'Running {clf.name}')\n",
    "    \n",
    "    start_time = time.time()\n",
    "    clf.model.fit(X_train, y_train)\n",
    "    y_pred = clf.model.predict(X_test)\n",
    "    print(f'Accuracy: {accuracy_score(y_test, y_pred) * 100:.3f}')\n",
    "    \n",
    "    elapsed_time = time.time() - start_time\n",
    "    sum_time += elapsed_time\n",
    "    print(f'Time to run: {elapsed_time:.1f}s')\n",
    "    print()\n",
    "\n",
    "\n",
    "print(f'Total time ran: {sum_time}s')"
   ],
   "id": "2b1233468cafe9f6",
   "outputs": [
    {
     "name": "stdout",
     "output_type": "stream",
     "text": [
      "Running K-Nearest Neighbors\n",
      "Accuracy: 49.643\n",
      "Time to run: 63.7s\n",
      "Running Logistic Regression\n",
      "Accuracy: 94.222\n",
      "Time to run: 7.2s\n",
      "Running Multinomial Naive Bayes\n",
      "Accuracy: 74.243\n",
      "Time to run: 0.0s\n",
      "Running Random Forest\n",
      "Accuracy: 44.057\n",
      "Time to run: 13.2s\n",
      "Running C-Support Vector\n",
      "Accuracy: 44.057\n",
      "Time to run: 2592.4s\n",
      "Total time ran: 2676.4916076660156s\n"
     ]
    }
   ],
   "execution_count": 9
  }
 ],
 "metadata": {
  "kernelspec": {
   "display_name": "Python 3",
   "language": "python",
   "name": "python3"
  },
  "language_info": {
   "codemirror_mode": {
    "name": "ipython",
    "version": 2
   },
   "file_extension": ".py",
   "mimetype": "text/x-python",
   "name": "python",
   "nbconvert_exporter": "python",
   "pygments_lexer": "ipython2",
   "version": "2.7.6"
  }
 },
 "nbformat": 4,
 "nbformat_minor": 5
}
