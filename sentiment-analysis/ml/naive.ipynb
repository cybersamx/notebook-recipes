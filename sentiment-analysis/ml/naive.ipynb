{
 "cells": [
  {
   "metadata": {},
   "cell_type": "markdown",
   "source": [
    "# Sentiment Analysis using Support Vector Machine (SVM)\n",
    "\n",
    "We train our sentiment analysis using classifier algo SVM."
   ],
   "id": "3174fa545e405d9"
  },
  {
   "metadata": {
    "ExecuteTime": {
     "end_time": "2024-10-07T04:14:54.632762Z",
     "start_time": "2024-10-07T04:14:53.813713Z"
    }
   },
   "cell_type": "code",
   "source": [
    "# Install the packages\n",
    "\n",
    "!pip install pandas scikit-learn > /dev/null 2>&1"
   ],
   "id": "a14c6adea07a6763",
   "outputs": [],
   "execution_count": 1
  },
  {
   "cell_type": "code",
   "id": "initial_id",
   "metadata": {
    "collapsed": true,
    "ExecuteTime": {
     "end_time": "2024-10-07T04:14:55.163539Z",
     "start_time": "2024-10-07T04:14:54.637063Z"
    }
   },
   "source": [
    "import pandas as pd\n",
    "import sklearn.model_selection as ms\n",
    "from sklearn.feature_extraction.text import CountVectorizer\n",
    "from sklearn.metrics import classification_report, accuracy_score\n",
    "from sklearn.naive_bayes import MultinomialNB\n"
   ],
   "outputs": [],
   "execution_count": 2
  },
  {
   "metadata": {
    "ExecuteTime": {
     "end_time": "2024-10-07T04:14:55.398303Z",
     "start_time": "2024-10-07T04:14:55.236963Z"
    }
   },
   "cell_type": "code",
   "source": [
    "# Load the training data and perform eda.\n",
    "trained_data = pd.read_csv('../../data/twitter_data.csv')"
   ],
   "id": "164cb839f2f6a1c2",
   "outputs": [],
   "execution_count": 3
  },
  {
   "metadata": {
    "ExecuteTime": {
     "end_time": "2024-10-07T04:14:55.416794Z",
     "start_time": "2024-10-07T04:14:55.405414Z"
    }
   },
   "cell_type": "code",
   "source": [
    "# Clean up the data.\n",
    "\n",
    "# Drop row if column category is nan or none, or column text is invalid.\n",
    "trained_data = trained_data.dropna(subset=['category', 'text'])"
   ],
   "id": "a78f9fda2b81c83e",
   "outputs": [],
   "execution_count": 4
  },
  {
   "metadata": {},
   "cell_type": "markdown",
   "source": [
    "Here are our inputs to the classification models:\n",
    "\n",
    "| Parameter       | Description                     | Example                                   |\n",
    "|:----------------|:--------------------------------|:------------------------------------------|\n",
    "| Feature name    | Word name                       | ['abuses' 'again' 'from' 'this',...]      |\n",
    "| Feature measure | Word count                      | [0, 0, 1, 1,...]                          |  \n",
    "| Label           | The sentiment grade (-1, 0, 1)  |                                           |\n",
    "| Data (X_train)  | The twitter text                | ['this comes from cabinet which...',...]  |\n",
    "| Data (Y_train)  | The sentiment grade (-1, 0, 1)  | -1                                        |"
   ],
   "id": "7d4ab393457097c4"
  },
  {
   "metadata": {
    "ExecuteTime": {
     "end_time": "2024-10-07T04:14:56.621135Z",
     "start_time": "2024-10-07T04:14:55.421526Z"
    }
   },
   "cell_type": "code",
   "source": [
    "# Vectorize the data\n",
    "vec = CountVectorizer()\n",
    "X = vec.fit_transform(trained_data['text'])\n",
    "y = trained_data['category']"
   ],
   "id": "5b27e31421936d00",
   "outputs": [],
   "execution_count": 5
  },
  {
   "metadata": {
    "ExecuteTime": {
     "end_time": "2024-10-07T04:14:56.643018Z",
     "start_time": "2024-10-07T04:14:56.628307Z"
    }
   },
   "cell_type": "code",
   "source": [
    "# Split the data into 2 datasets for training and testing.\n",
    "X_train, X_test, y_train, y_test = ms.train_test_split(X, y, test_size=0.25, random_state=42)"
   ],
   "id": "1f1aea4dcdbee63d",
   "outputs": [],
   "execution_count": 6
  },
  {
   "metadata": {
    "ExecuteTime": {
     "end_time": "2024-10-07T04:14:56.684542Z",
     "start_time": "2024-10-07T04:14:56.648449Z"
    }
   },
   "cell_type": "code",
   "source": [
    "# Now that we have the features determined and quantified as a vector, we can feed the features.\n",
    "model = MultinomialNB()\n",
    "model.fit(X_train, y_train)\n",
    "y_pred = model.predict(X_test)\n",
    "\n",
    "# See results.\n",
    "print(\"Classification Report (MultinomialNB):\")\n",
    "print(classification_report(y_test, y_pred))\n",
    "print(\"Accuracy Score (MultinomialNB):\")\n",
    "print(accuracy_score(y_test, y_pred))\n"
   ],
   "id": "6f0e5100fc99f689",
   "outputs": [
    {
     "name": "stdout",
     "output_type": "stream",
     "text": [
      "Classification Report (MultinomialNB):\n",
      "              precision    recall  f1-score   support\n",
      "\n",
      "        -1.0       0.74      0.62      0.67      8933\n",
      "         0.0       0.91      0.60      0.72     13860\n",
      "         1.0       0.68      0.91      0.78     17950\n",
      "\n",
      "    accuracy                           0.74     40743\n",
      "   macro avg       0.78      0.71      0.73     40743\n",
      "weighted avg       0.77      0.74      0.74     40743\n",
      "\n",
      "Accuracy Score (MultinomialNB):\n",
      "0.7424342831897504\n"
     ]
    }
   ],
   "execution_count": 7
  },
  {
   "metadata": {
    "ExecuteTime": {
     "end_time": "2024-10-07T04:14:56.697972Z",
     "start_time": "2024-10-07T04:14:56.691031Z"
    }
   },
   "cell_type": "code",
   "source": [
    "# Load real data.\n",
    "real_data = pd.read_csv('../../data/amazon_product_reviews.csv')\n",
    "\n",
    "# The reviews in amazon product review data is in the Review column.\n",
    "X_real = vec.transform(real_data['Review'])\n",
    "y_pred = model.predict(X_real)\n",
    "\n",
    "# Combine the predicted results back to the review text.\n",
    "data = pd.merge(real_data['Review'], pd.DataFrame(y_pred, columns=['Sentiment']), how='left', left_index=True, right_index=True)\n",
    "print(data.head())"
   ],
   "id": "ff89aa0f3e6a8452",
   "outputs": [
    {
     "name": "stdout",
     "output_type": "stream",
     "text": [
      "                                              Review  Sentiment\n",
      "0             The HeatWave Electric Blanket keeps me        0.0\n",
      "1  Still impressed with the durability of the Snu...        1.0\n",
      "2  PowerFlex Resistance Bands are durable and ver...        1.0\n",
      "3  TurboCharge Power Bank is my go-to for keeping...        1.0\n",
      "4  NovaChill Cooler Bag is spacious and keeps my ...        1.0\n"
     ]
    }
   ],
   "execution_count": 8
  },
  {
   "metadata": {},
   "cell_type": "markdown",
   "source": [
    "## Prompt the User for Text to Predict\n",
    "\n",
    "Mini deployment of the model by prompting the user to enter text to predict sentiment.\n",
    "\n",
    "> **Note**\n",
    "> \n",
    "> The function `input` only works on a local notebook setup, not on Github.\n"
   ],
   "id": "75c00c83fc89952d"
  },
  {
   "metadata": {
    "ExecuteTime": {
     "end_time": "2024-10-07T04:15:03.917264Z",
     "start_time": "2024-10-07T04:14:56.704855Z"
    }
   },
   "cell_type": "code",
   "source": [
    "# Prompt the user for a text to analyze\n",
    "\n",
    "def get_sentiment(text, model, vectorizer):\n",
    "    vector = vectorizer.transform([text])\n",
    "    sentiment = model.predict(vector)[0]\n",
    "    \n",
    "    if sentiment == 0:\n",
    "        return 'Neutral sentiment'\n",
    "    elif sentiment == 1:\n",
    "        return 'Positive sentiment'\n",
    "\n",
    "    return 'Negative sentiment'\n",
    "\n",
    "\n",
    "done = False\n",
    "while not done:\n",
    "    try:\n",
    "        text = input('Enter text to analyze:')\n",
    "        print(get_sentiment(text, model, vec))\n",
    "    except KeyboardInterrupt:\n",
    "        print('Quitting')\n",
    "        done = True\n"
   ],
   "id": "2083c9c2f1339b7c",
   "outputs": [
    {
     "name": "stdout",
     "output_type": "stream",
     "text": [
      "Positive sentiment\n",
      "Quitting\n"
     ]
    }
   ],
   "execution_count": 9
  },
  {
   "metadata": {
    "ExecuteTime": {
     "end_time": "2024-10-07T04:15:03.939077Z",
     "start_time": "2024-10-07T04:15:03.937531Z"
    }
   },
   "cell_type": "code",
   "source": "",
   "id": "e67eab445744853",
   "outputs": [],
   "execution_count": null
  }
 ],
 "metadata": {
  "kernelspec": {
   "display_name": "Python 3",
   "language": "python",
   "name": "python3"
  },
  "language_info": {
   "codemirror_mode": {
    "name": "ipython",
    "version": 2
   },
   "file_extension": ".py",
   "mimetype": "text/x-python",
   "name": "python",
   "nbconvert_exporter": "python",
   "pygments_lexer": "ipython2",
   "version": "2.7.6"
  }
 },
 "nbformat": 4,
 "nbformat_minor": 5
}
