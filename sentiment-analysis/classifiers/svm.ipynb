{
 "cells": [
  {
   "metadata": {},
   "cell_type": "markdown",
   "source": [
    "# Sentiment Analysis using Support Vector Machine (SVM)\n",
    "\n",
    "We train our sentiment analysis using classifier algo SVM."
   ],
   "id": "3174fa545e405d9"
  },
  {
   "metadata": {
    "ExecuteTime": {
     "end_time": "2024-10-06T06:32:07.022688Z",
     "start_time": "2024-10-06T06:32:06.303762Z"
    }
   },
   "cell_type": "code",
   "source": [
    "# Install the packages\n",
    "\n",
    "!pip install pandas scikit-learn > /dev/null 2>&1"
   ],
   "id": "a14c6adea07a6763",
   "outputs": [],
   "execution_count": 15
  },
  {
   "cell_type": "code",
   "id": "initial_id",
   "metadata": {
    "collapsed": true,
    "ExecuteTime": {
     "end_time": "2024-10-06T06:32:07.029518Z",
     "start_time": "2024-10-06T06:32:07.026741Z"
    }
   },
   "source": [
    "import pandas as pd\n",
    "import re\n",
    "import sklearn.model_selection as ms\n",
    "from sklearn.feature_extraction.text import CountVectorizer\n",
    "from sklearn.metrics import classification_report, accuracy_score\n",
    "from sklearn.svm import LinearSVC\n"
   ],
   "outputs": [],
   "execution_count": 16
  },
  {
   "metadata": {
    "ExecuteTime": {
     "end_time": "2024-10-06T06:32:07.212204Z",
     "start_time": "2024-10-06T06:32:07.039317Z"
    }
   },
   "cell_type": "code",
   "source": [
    "# Load the training data and perform eda.\n",
    "\n",
    "df = pd.read_csv('../../data/twitter_data.csv')"
   ],
   "id": "164cb839f2f6a1c2",
   "outputs": [],
   "execution_count": 17
  },
  {
   "metadata": {
    "ExecuteTime": {
     "end_time": "2024-10-06T06:32:07.756119Z",
     "start_time": "2024-10-06T06:32:07.218403Z"
    }
   },
   "cell_type": "code",
   "source": [
    "# Clean up the data.\n",
    "def cleanse(text):\n",
    "    # Only string and replace null with an empty string.\n",
    "    text = '' if pd.isna(text) else str(text)    \n",
    "    \n",
    "    # Remove leading and trailing spaces.\n",
    "    text = re.sub(r'\\s+', ' ', text).strip()\n",
    "    \n",
    "    return text\n",
    "\n",
    "df['text'] = df['text'].apply(cleanse)\n",
    "\n",
    "# Drop if category is nan or none\n",
    "df = df.dropna(subset=['category'])"
   ],
   "id": "a78f9fda2b81c83e",
   "outputs": [],
   "execution_count": 18
  },
  {
   "metadata": {
    "ExecuteTime": {
     "end_time": "2024-10-06T06:32:07.775138Z",
     "start_time": "2024-10-06T06:32:07.762006Z"
    }
   },
   "cell_type": "code",
   "source": [
    "# Split the data into 2 datasets for training and testing.\n",
    "\n",
    "X_train, X_test, y_train, y_test = ms.train_test_split(df['text'], df['category'], test_size=0.25, random_state=42)"
   ],
   "id": "1f1aea4dcdbee63d",
   "outputs": [],
   "execution_count": 19
  },
  {
   "metadata": {
    "ExecuteTime": {
     "end_time": "2024-10-06T06:32:08.979601Z",
     "start_time": "2024-10-06T06:32:07.781016Z"
    }
   },
   "cell_type": "code",
   "source": [
    "vec = CountVectorizer()\n",
    "X_train_vector = vec.fit_transform(X_train)\n",
    "X_test_vector = vec.transform(X_test)"
   ],
   "id": "eb4ded0b39e8fc55",
   "outputs": [],
   "execution_count": 20
  },
  {
   "metadata": {},
   "cell_type": "markdown",
   "source": [
    "Here are our inputs to the classification models:\n",
    "\n",
    "| Parameter       | Description                     | Example                                   |\n",
    "|:----------------|:--------------------------------|:------------------------------------------|\n",
    "| Feature name    | Word name                       | ['abuses' 'again' 'from' 'this',...]      |\n",
    "| Feature measure | Word count                      | [0, 0, 1, 1,...]                          |  \n",
    "| Label           | The sentiment grade (-1, 0, 1)  |                                           |\n",
    "| Data (X_train)  | The twitter text                | ['this comes from cabinet which...',...]  |\n",
    "| Data (Y_train)  | The sentiment grade (-1, 0, 1)  | -1                                        |"
   ],
   "id": "7d4ab393457097c4"
  },
  {
   "metadata": {
    "ExecuteTime": {
     "end_time": "2024-10-06T06:32:16.635325Z",
     "start_time": "2024-10-06T06:32:08.985926Z"
    }
   },
   "cell_type": "code",
   "source": [
    "# Now that we have the features determined and quantified as a vector, we can feed the features.\n",
    "\n",
    "svc = LinearSVC()\n",
    "svc.fit(X_train_vector, y_train)\n",
    "y_pred = svc.predict(X_test_vector)\n",
    "\n",
    "# See results.\n",
    "print(\"Classification Report (ML-based):\")\n",
    "print(classification_report(y_test, y_pred))\n",
    "print(\"Accuracy Score (ML-based):\")\n",
    "print(accuracy_score(y_test, y_pred))\n"
   ],
   "id": "6f0e5100fc99f689",
   "outputs": [
    {
     "name": "stdout",
     "output_type": "stream",
     "text": [
      "Classification Report (ML-based):\n",
      "              precision    recall  f1-score   support\n",
      "\n",
      "        -1.0       0.91      0.89      0.90      9019\n",
      "         0.0       0.97      0.97      0.97     13689\n",
      "         1.0       0.95      0.95      0.95     18036\n",
      "\n",
      "    accuracy                           0.95     40744\n",
      "   macro avg       0.94      0.94      0.94     40744\n",
      "weighted avg       0.95      0.95      0.95     40744\n",
      "\n",
      "Accuracy Score (ML-based):\n",
      "0.9455625368152366\n"
     ]
    }
   ],
   "execution_count": 21
  }
 ],
 "metadata": {
  "kernelspec": {
   "display_name": "Python 3",
   "language": "python",
   "name": "python3"
  },
  "language_info": {
   "codemirror_mode": {
    "name": "ipython",
    "version": 2
   },
   "file_extension": ".py",
   "mimetype": "text/x-python",
   "name": "python",
   "nbconvert_exporter": "python",
   "pygments_lexer": "ipython2",
   "version": "2.7.6"
  }
 },
 "nbformat": 4,
 "nbformat_minor": 5
}
