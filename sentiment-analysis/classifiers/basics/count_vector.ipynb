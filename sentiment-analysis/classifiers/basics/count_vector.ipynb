{
 "cells": [
  {
   "metadata": {
    "ExecuteTime": {
     "end_time": "2024-10-06T05:49:33.691671Z",
     "start_time": "2024-10-06T05:49:33.011358Z"
    }
   },
   "cell_type": "code",
   "source": [
    "# Install the packages\n",
    "\n",
    "!pip install scikit-learn > /dev/null 2>&1"
   ],
   "id": "bab41d5abf2c6b0",
   "outputs": [],
   "execution_count": 5
  },
  {
   "metadata": {},
   "cell_type": "markdown",
   "source": [
    "# Count Vectorization\n",
    "\n",
    "Before we can start training the model with textual datasets, we need to produce a matrix that maps a feature with some quantified measures. A feature should be a token. For text, word is commonly used. A super simple measure is word count.\n",
    "\n",
    "We can perform a count vectorization using the `scikit.feature_extraction.text` module.\n"
   ],
   "id": "78fb7156be691479"
  },
  {
   "metadata": {
    "ExecuteTime": {
     "end_time": "2024-10-06T05:49:33.700761Z",
     "start_time": "2024-10-06T05:49:33.696770Z"
    }
   },
   "cell_type": "code",
   "source": [
    "from sklearn.feature_extraction.text import CountVectorizer\n",
    "\n",
    "corpus = [\n",
    "    'The quick brown fox jumps over the lazy dog',\n",
    "    'The five boxing wizards jump quickly',\n",
    "]\n",
    "\n",
    "vec = CountVectorizer()\n",
    "X = vec.fit_transform(corpus)\n",
    "names = vec.get_feature_names_out()\n",
    " \n",
    "print(names, X.toarray())"
   ],
   "id": "871e2465131f5ec5",
   "outputs": [
    {
     "name": "stdout",
     "output_type": "stream",
     "text": [
      "['boxing' 'brown' 'dog' 'five' 'fox' 'jump' 'jumps' 'lazy' 'over' 'quick'\n",
      " 'quickly' 'the' 'wizards'] [[0 1 1 0 1 0 1 1 1 1 0 2 0]\n",
      " [1 0 0 1 0 1 0 0 0 0 1 1 1]]\n"
     ]
    }
   ],
   "execution_count": 6
  },
  {
   "metadata": {},
   "cell_type": "markdown",
   "source": [
    "## Output\n",
    "\n",
    "Here's the output:\n",
    "\n",
    "```\n",
    "['boxing' 'brown' 'dog' 'five' 'fox' 'jump' 'jumps' 'lazy' 'over' 'quick'\n",
    " 'quickly' 'the' 'wizards'] [[0 1 1 0 1 0 1 1 1 1 0 2 0]\n",
    " [1 0 0 1 0 1 0 0 0 0 1 1 1]]\n",
    "```\n",
    "\n",
    "This translates to this matrix:\n",
    "\n",
    "|          | boxing | brown | dog | five | fox | jump | jumps | lazy | over | quick | quickly | the | wizards |\n",
    "|----------|:------:|:-----:|:---:|:----:|:---:|:----:|:-----:|:----:|:----:|:-----:|:-------:|:---:|:-------:|\n",
    "| Corpus 1 |   0    |   1   |  1  |  0   |  1  |  0   |   1   |  1   |  1   |   1   |    0    |  2  |    0    |\n",
    "| Corpus 2 |   1    |   0   |  0  |  1   |  0  |  1   |   0   |  0   |  0   |   0   |    1    |  1  |    1    |\n"
   ],
   "id": "ceed1d43e0ba2439"
  }
 ],
 "metadata": {
  "kernelspec": {
   "display_name": "Python 3",
   "language": "python",
   "name": "python3"
  },
  "language_info": {
   "codemirror_mode": {
    "name": "ipython",
    "version": 2
   },
   "file_extension": ".py",
   "mimetype": "text/x-python",
   "name": "python",
   "nbconvert_exporter": "python",
   "pygments_lexer": "ipython2",
   "version": "2.7.6"
  }
 },
 "nbformat": 4,
 "nbformat_minor": 5
}
